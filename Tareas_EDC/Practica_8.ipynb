{
 "cells": [
  {
   "cell_type": "code",
   "execution_count": null,
   "metadata": {},
   "outputs": [],
   "source": [
    "#1. Escribe un programa en python que pida un número por teclado y que cree un diccionario cuyas claves \n",
    "#sean desde el 1 hasta el número indicado, los valores son los cuadrados de las claves.\n",
    "\n",
    "numero = int(input(\"Ingresa un número\"))\n",
    "cuadrado = {}\n",
    "\n",
    "for num in range(1,numero+1):\n",
    "    cuadrado[num] = num ** 2\n",
    "for num, valor in cuadrado.items():\n",
    "    print(\"%d -> %d\" % (num,valor))\n"
   ]
  },
  {
   "cell_type": "code",
   "execution_count": null,
   "metadata": {},
   "outputs": [],
   "source": [
    "#2. Escribe un programa que lea una cadena y devuelva un diccionario \n",
    "#con la cantidad de apariciones de cada carácter en la cadena.\n",
    "\n",
    "dict = {}\n",
    "cadena = input(\"Ingresa una cadena\")\n",
    "for caracter in cadena:\n",
    "\tif caracter in dict:\n",
    "\t\tdict[caracter]+=1\n",
    "\telse:\n",
    "\t\tdict[caracter]=1\t\n",
    "for campo,valor in dict.items():\n",
    "\tprint (campo,\"->\",valor)\n"
   ]
  },
  {
   "cell_type": "code",
   "execution_count": 4,
   "metadata": {},
   "outputs": [
    {
     "name": "stdout",
     "output_type": "stream",
     "text": [
      "El precio es de 24.000000\n"
     ]
    }
   ],
   "source": [
    "#3. Crear un programa donde vamos a declarar un diccionario que contenga los precios de las distintas frutas. \n",
    "# El programa pedirá el nombre de la fruta y la cantidad que se ha vendido \n",
    "# y nos mostrará el precio final de la fruta a partir de los datos guardados en el diccionario. \n",
    "# Si la fruta no existe nos dará un error. Tras cada consulta el programa nos preguntara si queremos hacer otra consulta.\n",
    "\n",
    "precios = {\"melón\": 10, \"uva\": 25.5, \"manzana\": 30, \"sandia\": 8}\n",
    "while True:\n",
    "    fruta = input(\"Ingresa el nombre de la fruta que has vendido (melón, uva, manzana o sandía):\")\n",
    "    if fruta.lower() not in precios:\n",
    "        print(\"La fruta no existe\")\n",
    "    else:\n",
    "        cantidad = int(input(\"¿Cuántas frutas has vendido?\"))\n",
    "        print(\"El precio es de %f\" % (cantidad * precios[fruta]))\n",
    "    opcion = input(\"¿Quieres vender otra fruta (s/n)\")\n",
    "    while opcion.lower() != \"s\" and opcion.lower() != \"n\":\n",
    "        opcion = input(\"¿Quieres vender otra fruta (s/n)\")\n",
    "    if opcion.lower() == \"n\":\n",
    "        break"
   ]
  }
 ],
 "metadata": {
  "kernelspec": {
   "display_name": "Python 3",
   "language": "python",
   "name": "python3"
  },
  "language_info": {
   "codemirror_mode": {
    "name": "ipython",
    "version": 3
   },
   "file_extension": ".py",
   "mimetype": "text/x-python",
   "name": "python",
   "nbconvert_exporter": "python",
   "pygments_lexer": "ipython3",
   "version": "3.10.4"
  },
  "orig_nbformat": 4,
  "vscode": {
   "interpreter": {
    "hash": "e593ac106456af50ce7af38f9671c411b49d6cd90f9b885e167f0f594e09038c"
   }
  }
 },
 "nbformat": 4,
 "nbformat_minor": 2
}
