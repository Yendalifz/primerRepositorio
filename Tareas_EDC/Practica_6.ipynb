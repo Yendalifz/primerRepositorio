{
 "cells": [
  {
   "cell_type": "code",
   "execution_count": null,
   "metadata": {},
   "outputs": [],
   "source": [
    "#Realizar un ejemplo de menú, donde podamos escoger las distintas opciones hasta que seleccionemos la opción \"Salir\".\n",
    "\n",
    "def menu_opc():\n",
    " \n",
    "    correcto=False\n",
    "    num=0\n",
    "    while(not correcto):\n",
    "        try:\n",
    "            num = int(input(\"Introduce una opción:\"))\n",
    "            correcto=True\n",
    "        except ValueError:\n",
    "            print('Error, introduce otra opción:')\n",
    "     \n",
    "    return num\n",
    " \n",
    "salir = False\n",
    "opcion = 0\n",
    " \n",
    "while not salir:\n",
    " \n",
    "    print (\"1. Opción 1\")\n",
    "    print (\"2. Opción 2\")\n",
    "    print (\"3. Opción 3\")\n",
    "    print (\"4. Salir\")\n",
    "     \n",
    "    print (\"Elige una opcion\")\n",
    " \n",
    "    opcion = menu_opc()\n",
    " \n",
    "    if opcion == 1:\n",
    "        print (\"Opción 1\")\n",
    "    elif opcion == 2:\n",
    "        print (\"Opción 2\")\n",
    "    elif opcion == 3:\n",
    "        print(\"Opción 3\")\n",
    "    elif opcion == 4:\n",
    "        salir = True\n",
    "    else:\n",
    "        print (\"Introduce un número entre 1 y 3\")\n",
    " \n",
    "print (\"Fin\")"
   ]
  },
  {
   "cell_type": "code",
   "execution_count": null,
   "metadata": {},
   "outputs": [],
   "source": [
    "#Mostrar en pantalla los N primeros números primos. \n",
    "#Se pide por teclado la cantidad de números primos que queremos mostrar.\n",
    "\n",
    "lista = int(input(\"¿Cuántos números primos quieres ver?: \"))\n",
    "cont = 0\n",
    "for i in range(2, lista + 1):\n",
    "    primos = True\n",
    "    for j in range(2,i):\n",
    "        if i == j:\n",
    "           break\n",
    "        elif i%j == 0:\n",
    "           primos = False\n",
    "        else:\n",
    "           continue\n",
    "    if primos == True:\n",
    "        print(' ',i, end='')\n",
    "        cont += 1\n",
    "print(\"\\nHay %u números primos.\" % cont )"
   ]
  },
  {
   "cell_type": "code",
   "execution_count": null,
   "metadata": {},
   "outputs": [],
   "source": [
    "#Una persona adquirió un producto para pagar en 20 meses. El primer mes pagó $10 , el segundo $20, el tercero $40 y así sucesivamente. \n",
    "#Realizar un algoritmo para determinar cuanto debe pagar mensualmente y el total de lo que pagó después de los 20 meses.\n",
    "\n",
    "producto = int()\n",
    "mensualidad = int()\n",
    "total = int()\n",
    "\n",
    "if producto == 1:\n",
    "  mensualidad == 10\n",
    "else:\n",
    " mensualidad == mensualidad * 2\n",
    "print(\"El pago en el mes\" ,producto, \"es $\", mensualidad)\n",
    "total = total + mensualidad\n",
    "print(\"El pago total es: $\", total)"
   ]
  },
  {
   "cell_type": "code",
   "execution_count": 19,
   "metadata": {},
   "outputs": [
    {
     "name": "stdout",
     "output_type": "stream",
     "text": [
      "Su factorial es: 720\n"
     ]
    }
   ],
   "source": [
    "#Crear una aplicación que pida un número y calculo su factorial.\n",
    "\n",
    "num = int(input(\"Ingresa un número:\"))\n",
    "factorial = 1\n",
    "if num !=0 :\n",
    "    for i in range(1,num+1):\n",
    "        factorial=factorial*i\n",
    "print(\"Su factorial es:\",factorial)"
   ]
  }
 ],
 "metadata": {
  "kernelspec": {
   "display_name": "Python 3.10.4 64-bit",
   "language": "python",
   "name": "python3"
  },
  "language_info": {
   "codemirror_mode": {
    "name": "ipython",
    "version": 3
   },
   "file_extension": ".py",
   "mimetype": "text/x-python",
   "name": "python",
   "nbconvert_exporter": "python",
   "pygments_lexer": "ipython3",
   "version": "3.10.4"
  },
  "orig_nbformat": 4,
  "vscode": {
   "interpreter": {
    "hash": "e593ac106456af50ce7af38f9671c411b49d6cd90f9b885e167f0f594e09038c"
   }
  }
 },
 "nbformat": 4,
 "nbformat_minor": 2
}
