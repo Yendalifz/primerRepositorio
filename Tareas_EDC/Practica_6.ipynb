{
 "cells": [
  {
   "cell_type": "code",
   "execution_count": null,
   "metadata": {},
   "outputs": [],
   "source": [
    "#Realizar un ejemplo de menú. donde podamos escoger las distintas opciones hasta que seleccionemos la opción \"Salir\"."
   ]
  },
  {
   "cell_type": "code",
   "execution_count": null,
   "metadata": {},
   "outputs": [],
   "source": [
    "#Mostrar en pantalla los N primeros números primos. \n",
    "#Se pide por teclado la cantidad de números primos que queremos mostrar."
   ]
  },
  {
   "cell_type": "code",
   "execution_count": null,
   "metadata": {},
   "outputs": [],
   "source": [
    "#Una persona adquirió un producto para pagar en 20 meses. El primer mes pagó $10 , el segundo $20, el tercero $40 y así sucesivamente. \n",
    "#Realizar un algoritmo para determinar cuanto debe pagar mensualmente y el total de lo que pagó después de los 20 meses."
   ]
  },
  {
   "cell_type": "code",
   "execution_count": null,
   "metadata": {},
   "outputs": [],
   "source": [
    "#Crear una aplicación que pida un número y calculo su factorial.\n"
   ]
  }
 ],
 "metadata": {
  "kernelspec": {
   "display_name": "Python 3.10.4 64-bit",
   "language": "python",
   "name": "python3"
  },
  "language_info": {
   "name": "python",
   "version": "3.10.4"
  },
  "orig_nbformat": 4,
  "vscode": {
   "interpreter": {
    "hash": "e593ac106456af50ce7af38f9671c411b49d6cd90f9b885e167f0f594e09038c"
   }
  }
 },
 "nbformat": 4,
 "nbformat_minor": 2
}
