{
 "cells": [
  {
   "cell_type": "code",
   "execution_count": 3,
   "metadata": {},
   "outputs": [
    {
     "name": "stdout",
     "output_type": "stream",
     "text": [
      "4 es positivo\n"
     ]
    }
   ],
   "source": [
    "#Programa que imprima si el número es positivo o negativo\n",
    "\n",
    "def pos_neg(n):\n",
    "    if n>0:\n",
    "        print(f\"{n} es positivo\")\n",
    "    else:\n",
    "        print(f\"{n} es negativo\")\n",
    "#llamamos a la función\n",
    "n= int(input(\"Ingresa un número\"))\n",
    "pos_neg(n)"
   ]
  },
  {
   "cell_type": "code",
   "execution_count": 47,
   "metadata": {},
   "outputs": [
    {
     "name": "stdout",
     "output_type": "stream",
     "text": [
      "No está ingresado en el rango\n"
     ]
    }
   ],
   "source": [
    "#Programa que imprima si el número ingresado esta en el rango de 1 a 7\n",
    "n= int(input(\"Ingresa un número\"))\n",
    "if n in range(0, 8):\n",
    "    print(\"Está ingresado en el rango\")\n",
    "else:\n",
    "    print(\"No está ingresado en el rango\")"
   ]
  },
  {
   "cell_type": "code",
   "execution_count": 55,
   "metadata": {},
   "outputs": [
    {
     "name": "stdout",
     "output_type": "stream",
     "text": [
      "El interes ingresado es incorrecto\n"
     ]
    }
   ],
   "source": [
    "#Programa que pida un monto(pesos) e interes, si el interes es mayor al 30%, \n",
    "#mostrar un mensaje \"El interes ingresado es incorrecto\", sino informar el importe total, el monto mas el interes (%).\n",
    "\n",
    "monto = int(input(\"Ingresa el monto\"))\n",
    "interes = int(input(\"Ingresa el interés\"))\n",
    "resultado = interes * monto / 100\n",
    "\n",
    "Imp_total = monto + resultado\n",
    "if resultado > 30:\n",
    " print(\"El interes ingresado es incorrecto\")\n",
    "else:\n",
    " print(Imp_total)\n",
    "\n"
   ]
  }
 ],
 "metadata": {
  "kernelspec": {
   "display_name": "Python 3.10.4 64-bit",
   "language": "python",
   "name": "python3"
  },
  "language_info": {
   "codemirror_mode": {
    "name": "ipython",
    "version": 3
   },
   "file_extension": ".py",
   "mimetype": "text/x-python",
   "name": "python",
   "nbconvert_exporter": "python",
   "pygments_lexer": "ipython3",
   "version": "3.10.4 (tags/v3.10.4:9d38120, Mar 23 2022, 23:13:41) [MSC v.1929 64 bit (AMD64)]"
  },
  "orig_nbformat": 4,
  "vscode": {
   "interpreter": {
    "hash": "e593ac106456af50ce7af38f9671c411b49d6cd90f9b885e167f0f594e09038c"
   }
  }
 },
 "nbformat": 4,
 "nbformat_minor": 2
}
