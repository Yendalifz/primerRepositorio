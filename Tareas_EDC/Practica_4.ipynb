{
 "cells": [
  {
   "cell_type": "code",
   "execution_count": null,
   "metadata": {},
   "outputs": [],
   "source": [
    "#Realizar un programa que inicialice una lista con 10 valores aleatorios (del 1 al 10) \n",
    "#y posteriormente muestre en pantalla cada elemento de la lista junto con su cuadrado y su cubo.\n",
    "\n",
    "import random\n",
    "lista_num = []\n",
    "for indice in range(1,11):\n",
    "        lista_num.append(random.randint(1,10)) #agregar un elemento de cualquier tipo al final de una lista append.\n",
    "for numero in lista_num:\n",
    "       print(numero,\" \",numero **2,\" \",numero**3) "
   ]
  },
  {
   "cell_type": "code",
   "execution_count": null,
   "metadata": {},
   "outputs": [],
   "source": [
    "#Crear una lista e inicializarla con 5 cadenas de caracteres leídas por teclado. \n",
    "#Copia los elementos de la lista en otra lista pero en orden inverso, y muestra sus elementos por pantalla.\n",
    "\n",
    "lista_1 = []  #Creamos dos listas, una en la que se leerán,\n",
    "lista_2 = []  #y otra en la que se copian.\n",
    "for indice in range(1,6):\n",
    "\tlista_1.append(input(\"Muestra la cadena del número %d:\" % indice))\n",
    "lista_2 = lista_1[::-1]  #Copiamos las listas en orden inverso.\n",
    "for cadena in lista_2:\n",
    "\tprint(cadena)"
   ]
  },
  {
   "cell_type": "code",
   "execution_count": 15,
   "metadata": {},
   "outputs": [
    {
     "name": "stdout",
     "output_type": "stream",
     "text": [
      "Las cinco notas del alumno son: 1  2  3  4  5  \n",
      "La nota media es:  3.0\n",
      "La nota más alta es:  5\n",
      "La nota menor es:  1\n"
     ]
    }
   ],
   "source": [
    "#Se quiere realizar un programa que lea por teclado las 5 notas obtenidas por un alumno (comprendidas entre 0 y 10). \n",
    "#A continuación debe mostrar todas las notas, la nota media, la nota más alta y la menor.\n",
    "\n",
    "notas = []\n",
    "for indice in range(1,6):\n",
    "\twhile True:\n",
    "\t\tnota = int(input(\"Ingresa la nota %d:\" % indice))\n",
    "\t\tif nota>=0 and nota<=10: break #Notas entre el 0 y 10.\n",
    "\tnotas.append(nota)\n",
    "print(\"Las cinco notas del alumno son: \",end=\"\")\n",
    "for nota in notas:\n",
    "\tprint(nota,\" \",end=\"\")\n",
    "print()\n",
    "print(\"La nota media es: \",sum(notas)/len(notas))\n",
    "print(\"La nota más alta es: \",max(notas))\n",
    "print(\"La nota menor es: \",min(notas))\n"
   ]
  },
  {
   "cell_type": "code",
   "execution_count": null,
   "metadata": {},
   "outputs": [],
   "source": [
    "#Codifica un programa en python que nos permita guardar los nombres de los alumnos de una clase y las notas que han obtenido. \n",
    "#Cada alumno puede tener distinta cantidad de notas. Guardar la información en un diccionario \n",
    "#cuyas claves serán los nombres de los alumnos y los valores serán listados con las notas de cada alumno. \n",
    "#El Programa pedirá el número de alumnos que vamos a introducir, \n",
    "#pedirá su nombre e irá pidiendo sus notas hasta que introduzcamos un número negativo.\n",
    "\n",
    "estudiantes = {}\n",
    "cantidad = int(input(\"Introduce la cantidad de alumnos que vamos a guardar:\"))\n",
    "for num in range(cantidad):\n",
    "    alumno = input(\"Introduce el nombre del alumno:\")\n",
    "    while alumno in estudiantes:\n",
    "        print(\"Alumno ya existe.\")\n",
    "        alumno = input(\"Introduce el nombre del alumno:\")\n",
    "    notas=[]\n",
    "    nota = int(input(\"Dame una nota del alumno (introduce un número negativo sino deseas continuar):\"))\n",
    "    while nota > 0:\n",
    "        notas.append(nota)\n",
    "        nota = int(input(\"Dame una nota del alumno (negativo para terminar):\"))\n",
    "    estudiantes[alumno] = notas.copy()\n",
    "for alumno, notas in estudiantes.items():\n",
    "    print(\"%s obtuviste de nota media %f\" % (alumno,sum(notas)/len(notas)))\n",
    "\n",
    "\n"
   ]
  },
  {
   "cell_type": "code",
   "execution_count": null,
   "metadata": {},
   "outputs": [],
   "source": [
    "#Crear una tupla con los meses del año, pide números al usuarios, si el número está entre 1 y la longitud máxima de la tupla, \n",
    "#muestra el contenido de esa posición sino muestra un mensaje de error. \n",
    "#El programa termina cuando el usuario introduce un cero.\n",
    "\n",
    "meses = (\"Enero\", \"Febrero\", \"Marzo\", \"Abril\", \"Mayo\", \"Junio\", \"Julio\", \"Agosto\", \"Septiembre\", \"Octubre\", \"Noviembre\", \"Diciembre\")\n",
    " \n",
    "terminar = False\n",
    "while(not terminar):\n",
    "    numero = int(input(\"Ingresa un numero\"))\n",
    "    if(numero == 0):\n",
    "        terminar = True\n",
    "    else:\n",
    "        if(numero>=1 and numero<=len(meses)):\n",
    "            print(meses[numero-1])\n",
    "        else:\n",
    "            print(\"Error, debes introducir un numero entre 1 y \",len(meses))"
   ]
  }
 ],
 "metadata": {
  "kernelspec": {
   "display_name": "Python 3.10.4 64-bit",
   "language": "python",
   "name": "python3"
  },
  "language_info": {
   "codemirror_mode": {
    "name": "ipython",
    "version": 3
   },
   "file_extension": ".py",
   "mimetype": "text/x-python",
   "name": "python",
   "nbconvert_exporter": "python",
   "pygments_lexer": "ipython3",
   "version": "3.10.4"
  },
  "orig_nbformat": 4,
  "vscode": {
   "interpreter": {
    "hash": "e593ac106456af50ce7af38f9671c411b49d6cd90f9b885e167f0f594e09038c"
   }
  }
 },
 "nbformat": 4,
 "nbformat_minor": 2
}
