{
 "cells": [
  {
   "cell_type": "code",
   "execution_count": null,
   "metadata": {},
   "outputs": [],
   "source": [
    "#1. Realizar un programa que pregunte aleatoriamente una multiplicación. \n",
    "#El programa debe indicar si la respuesta ha sido correcta o no \n",
    "#(en caso de que la respuesta sea incorrecta el programa tiene que mostrar cual es la respuesta correcta). \n",
    "#El programa preguntará 10 multiplicaciones, y al finalizar mostrará el número de aciertos.\n",
    "\n",
    "import random\n",
    "respuestas = 0\n",
    "for indice in range(10):\n",
    "    num1 = random.randint(2,10)\n",
    "    num2 = random.randint(2,10)\n",
    "    resultado = num1*num2\n",
    "    print(\"La multiplicación es\",indice)\n",
    "    print(num1,\" * \",num2,\" = \")\n",
    "    num_usuario = int(input())\n",
    "    if num_usuario == resultado:\n",
    "        respuestas = respuestas+1\n",
    "    else:\n",
    "        print(\"No es la respuesta correcta. La respuesta es\",resultado)\n",
    "    print(\"Tus aciertos han sido:\", respuestas)\n",
    "\n",
    "\n"
   ]
  },
  {
   "cell_type": "code",
   "execution_count": 11,
   "metadata": {},
   "outputs": [
    {
     "name": "stdout",
     "output_type": "stream",
     "text": [
      "La respueta correcta = 40\n",
      "Tus aciertos fueron = 2\n"
     ]
    }
   ],
   "source": [
    "import functools as ft, random as r\n",
    "multiplicacion = [(r.randint(2,9),r.randint(1,10)) for i in range (3)]\n",
    "def multiJuego (aciertos, multiplicacion):\n",
    "    resp= multiplicacion[0] * multiplicacion[1]\n",
    "    x= int(input(f\"{multiplicacion[0]} * {multiplicacion[1]}\"))\n",
    "    if x == resp:\n",
    "        aciertos+= 1\n",
    "    else:\n",
    "        print(f\"La respueta correcta = {(resp)}\")\n",
    "    return aciertos\n",
    "\n",
    "aciertos = ft.reduce(multiJuego, multiplicacion, 0)\n",
    "print (f\"Tus aciertos fueron = {aciertos}\")"
   ]
  },
  {
   "cell_type": "code",
   "execution_count": null,
   "metadata": {},
   "outputs": [],
   "source": []
  },
  {
   "cell_type": "code",
   "execution_count": null,
   "metadata": {},
   "outputs": [],
   "source": [
    "#2. Obtener el cuadrado de todos los elementos en la lista = [1,2,3,4,5,6,7,8,9,10] (utiliza map())\n",
    "\n",
    "lista = [1,2,3,4,5,6,7,8,9,10]\n",
    "cuadrados = list(map(lambda x : x ** 2, lista))\n",
    "print(cuadrados)"
   ]
  },
  {
   "cell_type": "code",
   "execution_count": null,
   "metadata": {},
   "outputs": [],
   "source": [
    "#3. Obtener la cantidad de elementos mayores a 5 en la tupla, tupla = (5,2,6,7,8,10,77,55,2,1,30,4,2,3)\n",
    "\n",
    "def cantidad(elementos):\n",
    "    return elementos > 5\n",
    "\n",
    "tupla = (5,2,6,7,8,10,77,55,2,1,30,4,2,3)\n",
    "resultado = tuple(filter( cantidad, tupla))\n",
    "resultado = len(resultado)\n",
    "print(resultado)"
   ]
  }
 ],
 "metadata": {
  "kernelspec": {
   "display_name": "Python 3",
   "language": "python",
   "name": "python3"
  },
  "language_info": {
   "codemirror_mode": {
    "name": "ipython",
    "version": 3
   },
   "file_extension": ".py",
   "mimetype": "text/x-python",
   "name": "python",
   "nbconvert_exporter": "python",
   "pygments_lexer": "ipython3",
   "version": "3.11.0"
  },
  "orig_nbformat": 4,
  "vscode": {
   "interpreter": {
    "hash": "0b0b049f9f07c796a5db9b973cc3ef1a7f890e99374bb13bd3a985708b2ada45"
   }
  }
 },
 "nbformat": 4,
 "nbformat_minor": 2
}
