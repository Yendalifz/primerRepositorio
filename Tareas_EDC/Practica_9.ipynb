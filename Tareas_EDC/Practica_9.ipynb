{
 "cells": [
  {
   "cell_type": "code",
   "execution_count": null,
   "metadata": {},
   "outputs": [],
   "source": [
    "#1. Realizar un programa que pregunte aleatoriamente una multiplicación. \n",
    "#El programa debe indicar si la respuesta ha sido correcta o no \n",
    "#(en caso de que la respuesta sea incorrecta el programa tiene que mostrar cual es la respuesta correcta). \n",
    "#El programa preguntará 10 multiplicaciones, y al finalizar mostrará el número de aciertos.\n",
    "\n",
    "import random\n",
    "respuestas = 0\n",
    "for indice in range(10):\n",
    "    num1 = random.randint(2,10)\n",
    "    num2 = random.randint(2,10)\n",
    "    resultado = num1*num2\n",
    "    print(\"La multiplicación es\",indice)\n",
    "    print(num1,\" * \",num2,\" = \")\n",
    "    num_usuario = int(input())\n",
    "    if num_usuario == resultado:\n",
    "        respuestas = respuestas+1\n",
    "    else:\n",
    "        print(\"No es la respuesta correcta. La respuesta es\",resultado)\n",
    "    print(\"Tus aciertos han sido:\", respuestas)"
   ]
  },
  {
   "cell_type": "code",
   "execution_count": null,
   "metadata": {},
   "outputs": [],
   "source": [
    "#2. Obtener el cuadrado de todos los elementos en la lista = [1,2,3,4,5,6,7,8,9,10] (utiliza map())\n",
    "\n",
    "lista = [1,2,3,4,5,6,7,8,9,10]\n",
    "cuadrados = list(map(lambda x : x ** 2, lista))\n",
    "print(cuadrados)"
   ]
  },
  {
   "cell_type": "code",
   "execution_count": null,
   "metadata": {},
   "outputs": [],
   "source": [
    "#3. Obtener la cantidad de elementos mayores a 5 en la tupla, tupla = (5,2,6,7,8,10,77,55,2,1,30,4,2,3)\n",
    "\n",
    "def cantidad(elementos):\n",
    "    return elementos > 5\n",
    "\n",
    "tupla = (5,2,6,7,8,10,77,55,2,1,30,4,2,3)\n",
    "resultado = tuple(filter( cantidad, tupla))\n",
    "resultado = len(resultado)\n",
    "print(resultado)"
   ]
  }
 ],
 "metadata": {
  "kernelspec": {
   "display_name": "Python 3",
   "language": "python",
   "name": "python3"
  },
  "language_info": {
   "codemirror_mode": {
    "name": "ipython",
    "version": 3
   },
   "file_extension": ".py",
   "mimetype": "text/x-python",
   "name": "python",
   "nbconvert_exporter": "python",
   "pygments_lexer": "ipython3",
   "version": "3.10.4"
  },
  "orig_nbformat": 4,
  "vscode": {
   "interpreter": {
    "hash": "e593ac106456af50ce7af38f9671c411b49d6cd90f9b885e167f0f594e09038c"
   }
  }
 },
 "nbformat": 4,
 "nbformat_minor": 2
}
