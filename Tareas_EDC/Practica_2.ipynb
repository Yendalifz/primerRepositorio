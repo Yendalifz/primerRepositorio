{
 "cells": [
  {
   "cell_type": "code",
   "execution_count": null,
   "metadata": {},
   "outputs": [],
   "source": [
    "# 1. Escribir un programa que convierta un valor dado en grados Faherenheir a grados Celsius. \n",
    "#Recordar que la fórmula para la conversión es: (F°-32)*5/9.\n",
    "\n",
    "# 2. Dados dos números, mostrar la suma, resta, división y multiplicación de ambos.\n",
    "\n",
    "# 3. Calcular el perímetro y área de un rectángulo dada su base y su altura.\n",
    "\n",
    "# 4. Calcular la media de tres números pedidos por teclado."
   ]
  },
  {
   "cell_type": "code",
   "execution_count": null,
   "metadata": {},
   "outputs": [],
   "source": []
  }
 ],
 "metadata": {
  "kernelspec": {
   "display_name": "Python 3",
   "language": "python",
   "name": "python3"
  },
  "language_info": {
   "name": "python",
   "version": "3.11.0 (main, Oct 24 2022, 18:26:48) [MSC v.1933 64 bit (AMD64)]"
  },
  "orig_nbformat": 4,
  "vscode": {
   "interpreter": {
    "hash": "0b0b049f9f07c796a5db9b973cc3ef1a7f890e99374bb13bd3a985708b2ada45"
   }
  }
 },
 "nbformat": 4,
 "nbformat_minor": 2
}
