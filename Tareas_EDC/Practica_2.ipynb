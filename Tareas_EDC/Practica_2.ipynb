{
 "cells": [
  {
   "cell_type": "code",
   "execution_count": null,
   "metadata": {},
   "outputs": [],
   "source": [
    "# 1. Escribir un programa que convierta un valor dado en grados Faherenheir a grados Celsius. \n",
    "#Recordar que la fórmula para la conversión es: (F°-32)*5/9.\n",
    "\n",
    "fahrenheit = int(input(\"¿Qué valor deseas convertir en grados Celsius?\")) #Nombramos a la variable que deseamos ingresar\n",
    "celsius = (fahrenheit-32)*5/9 #Colocamos la fórmula que queremos que nos convierta.\n",
    "print(celsius) #Imprimimos resultado"
   ]
  },
  {
   "cell_type": "code",
   "execution_count": null,
   "metadata": {},
   "outputs": [],
   "source": [
    "# 2. Dados dos números, mostrar la suma, resta, división y multiplicación de ambos.\n",
    "num1 = int(input(\"Ingresa el primer número\"))\n",
    "num2 = int(input(\"Ingresa el segundo número\"))\n",
    "operacion = input(\"suma, resta, division, multiplicacion\") #Guardamos las variables para después llamarlas\n",
    "if operacion == \"suma\": #Usamos condicional para que el usuario seleccione la opción deseada \n",
    "    print(num1 + num2) #Añadimos la operacion a imprimir\n",
    "elif operacion == \"resta\":\n",
    "    print(num1 - num2)\n",
    "elif operacion == \"division\":\n",
    "    print(num1/num2)\n",
    "elif operacion == \"multiplicacion\":\n",
    "    print(num1 * num2)"
   ]
  },
  {
   "cell_type": "code",
   "execution_count": 18,
   "metadata": {},
   "outputs": [
    {
     "name": "stdout",
     "output_type": "stream",
     "text": [
      "El perimetro es 22, el área es 30\n"
     ]
    }
   ],
   "source": [
    "# 3. Calcular el perímetro y área de un rectángulo dada su base y su altura.\n",
    "\n",
    "base = int(input(\"Ingresa la base del rectángulo\"))\n",
    "altura = int(input(\"Ingresa la altura del rectángulo\"))\n",
    "perimetro = (2*base)+(2*altura)\n",
    "area = base * altura\n",
    "print(f\"El perimetro es {perimetro}, el área es {area}\")"
   ]
  },
  {
   "cell_type": "code",
   "execution_count": 21,
   "metadata": {},
   "outputs": [
    {
     "name": "stdout",
     "output_type": "stream",
     "text": [
      "La media de los números ingresados es: 5.333333333333333\n"
     ]
    }
   ],
   "source": [
    "# 4. Calcular la media de tres números pedidos por teclado.\n",
    "num1 = int(input(\"Ingresa el primer número\"))\n",
    "num2 = int(input(\"Ingresa el segundo número\"))\n",
    "num3 = int(input(\"Ingresa el tercer número\"))\n",
    "media = float(num1 + num2 + num3)/3\n",
    "print(f\"La media de los números ingresados es: {media}\")\n",
    "\n"
   ]
  }
 ],
 "metadata": {
  "kernelspec": {
   "display_name": "Python 3.10.4 64-bit",
   "language": "python",
   "name": "python3"
  },
  "language_info": {
   "codemirror_mode": {
    "name": "ipython",
    "version": 3
   },
   "file_extension": ".py",
   "mimetype": "text/x-python",
   "name": "python",
   "nbconvert_exporter": "python",
   "pygments_lexer": "ipython3",
   "version": "3.10.4"
  },
  "orig_nbformat": 4,
  "vscode": {
   "interpreter": {
    "hash": "e593ac106456af50ce7af38f9671c411b49d6cd90f9b885e167f0f594e09038c"
   }
  }
 },
 "nbformat": 4,
 "nbformat_minor": 2
}
